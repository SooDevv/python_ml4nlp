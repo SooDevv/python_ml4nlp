{
 "cells": [
  {
   "cell_type": "code",
   "execution_count": 1,
   "metadata": {},
   "outputs": [
    {
     "name": "stdout",
     "output_type": "stream",
     "text": [
      "soynlp=0.0.49\n",
      "added lovit_textmining_dataset\n",
      "soyspacing=1.0.15\n"
     ]
    }
   ],
   "source": [
    "import config\n",
    "import soyspacing\n",
    "from navermovie_comments import load_movie_comments\n",
    "\n",
    "print('soyspacing={}'.format(soyspacing.__version__))\n",
    "\n",
    "idxs, texts, rates = load_movie_comments(idxs='134963')"
   ]
  },
  {
   "cell_type": "code",
   "execution_count": 2,
   "metadata": {
    "collapsed": true
   },
   "outputs": [],
   "source": [
    "corpus_path = 'lalaland_comments.txt'\n",
    "with open('lalaland_comments.txt', 'w', encoding='utf-8') as f:\n",
    "    for text in texts:\n",
    "        f.write('{}\\n'.format(text.strip()))"
   ]
  },
  {
   "cell_type": "code",
   "execution_count": 3,
   "metadata": {},
   "outputs": [
    {
     "name": "stdout",
     "output_type": "stream",
     "text": [
      "all tags length = 654328 --> 53317, (num_doc = 15598)"
     ]
    }
   ],
   "source": [
    "from soyspacing.countbase import CountSpace\n",
    "\n",
    "model = CountSpace()\n",
    "model.train(corpus_path)"
   ]
  },
  {
   "cell_type": "code",
   "execution_count": 4,
   "metadata": {
    "collapsed": true
   },
   "outputs": [],
   "source": [
    "model_path = 'lalaland-soyspacing.model'\n",
    "model.save_model(model_path, json_format=False)\n",
    "\n",
    "model2 = CountSpace()\n",
    "model2.load_model(model_path, json_format=False)"
   ]
  },
  {
   "cell_type": "markdown",
   "metadata": {},
   "source": [
    "arguments\n",
    "\n",
    "- force_abs_threshold : 점수의 절대값이 이 수준 이상이면 최고점이 아니더라도 즉각 태깅 |\n",
    "- nonspace_threshold  : 이 점수 이하일 때만 0으로 태깅 |\n",
    "- space_threshold     : 이 점수 이상일 때만 1로 태깅 |\n",
    "- min_count           : L, C, R 각각의 feature 빈도수가 min_count 이하이면 불확실한 정보로 판단, 띄어쓰기 계산 시 무시 |\n",
    "- verbose             : iteration 마다 띄어쓰기가 어떻게 되고 있는지 확인 |\n",
    "- rules               : 점수와 관계없이 반드시 태깅을 먼저 할 (chars, tags) |\n",
    "        "
   ]
  },
  {
   "cell_type": "code",
   "execution_count": 5,
   "metadata": {
    "collapsed": true
   },
   "outputs": [],
   "source": [
    "verbose=False\n",
    "mc = 10  # min_count\n",
    "ft = 0.3 # force_abs_threshold\n",
    "nt =-0.3 # nonspace_threshold\n",
    "st = 0.3 # space_threshold"
   ]
  },
  {
   "cell_type": "code",
   "execution_count": 6,
   "metadata": {},
   "outputs": [
    {
     "name": "stdout",
     "output_type": "stream",
     "text": [
      "before: 이건진짜좋은영화 라라랜드진짜좋은영화\n",
      "after : 이건 진짜 좋은 영화 라라랜드진짜 좋은 영화\n"
     ]
    }
   ],
   "source": [
    "sent = '이건진짜좋은영화 라라랜드진짜좋은영화'\n",
    "\n",
    "sent_corrected, tags = model.correct(\n",
    "    sent,\n",
    "    verbose = verbose,\n",
    "    force_abs_threshold = ft,\n",
    "    nonspace_threshold = nt,\n",
    "    space_threshold = st,\n",
    "    min_count = mc\n",
    ")\n",
    "\n",
    "print('before: %s' % sent)\n",
    "print('after : %s' % sent_corrected)"
   ]
  },
  {
   "cell_type": "code",
   "execution_count": 7,
   "metadata": {},
   "outputs": [
    {
     "data": {
      "text/plain": [
       "[0, 1, 0, 1, 0, 1, 0, 1, 0, 0, 0, None, None, 1, 0, 1, 0, 1]"
      ]
     },
     "execution_count": 7,
     "metadata": {},
     "output_type": "execute_result"
    }
   ],
   "source": [
    "tags"
   ]
  },
  {
   "cell_type": "code",
   "execution_count": 8,
   "metadata": {},
   "outputs": [
    {
     "name": "stdout",
     "output_type": "stream",
     "text": [
      "before: 이건진짜좋은영화 라라랜드진짜좋은영화\n",
      "after : 이건 진짜 좋은 영화 라라랜드 진짜 좋은 영화\n"
     ]
    }
   ],
   "source": [
    "from soyspacing.countbase import RuleDict\n",
    "\n",
    "rule_files = ['./ruledict']\n",
    "rule_dict = RuleDict(rule_files)\n",
    "\n",
    "sent_corrected, tags = model.correct(\n",
    "    sent,\n",
    "    verbose = verbose,\n",
    "    force_abs_threshold = ft,\n",
    "    nonspace_threshold = nt,\n",
    "    space_threshold = st,\n",
    "    min_count = mc,\n",
    "    rules = rule_dict\n",
    ")\n",
    "\n",
    "print('before: %s' % sent)\n",
    "print('after : %s' % sent_corrected)"
   ]
  },
  {
   "cell_type": "code",
   "execution_count": 10,
   "metadata": {},
   "outputs": [
    {
     "name": "stdout",
     "output_type": "stream",
     "text": [
      "rule tagging (b=2, e=4), subchar=진짜, tags=(1, 0, 1)\n",
      "rule tagging (b=12, e=14), subchar=진짜, tags=(1, 0, 1)\n",
      "0: 이 (-1.000, 13)\tlcr = (0.000, 0.000, -1.000)\n",
      "1: 건 (0.000, 0)\tlcr = (0.000, 0.000, 0.000)\n",
      "2: 진 (0.000, 0)\tlcr = (0.000, 0.000, 0.000)\n",
      "3: 짜 (0.000, 0)\tlcr = (0.000, 0.000, 0.000)\n",
      "4: 좋 (-1.000, 531)\tlcr = (-1.000, 0.000, -1.000)\n",
      "5: 은 (0.503, 1024)\tlcr = (0.000, 0.377, 0.629)\n",
      "6: 영 (-1.000, 1098)\tlcr = (-1.000, -1.000, -1.000)\n",
      "7: 화 (0.000, 0)\tlcr = (0.000, 0.000, 0.000)\n",
      "8: 라 (-0.998, 784)\tlcr = (-1.000, -1.000, -0.994)\n",
      "9: 라 (-0.931, 975)\tlcr = (-0.882, -0.956, -0.955)\n",
      "10: 랜 (-1.000, 941)\tlcr = (-1.000, -1.000, 0.000)\n",
      "11: 드 (0.000, 0)\tlcr = (0.000, 0.000, 0.000)\n",
      "12: 진 (0.000, 0)\tlcr = (0.000, 0.000, 0.000)\n",
      "13: 짜 (0.000, 0)\tlcr = (0.000, 0.000, 0.000)\n",
      "14: 좋 (-1.000, 531)\tlcr = (-1.000, 0.000, -1.000)\n",
      "15: 은 (0.502, 1022)\tlcr = (0.000, 0.377, 0.627)\n",
      "16: 영 (-1.000, 1022)\tlcr = (-1.000, -1.000, 0.000)\n",
      "17: 화 (0.000, 0)\tlcr = (0.000, 0.000, 0.000)\n",
      "force tagging i=0, score=-1.000\n",
      "force tagging i=4, score=-1.000\n",
      "force tagging i=6, score=-1.000\n",
      "force tagging i=8, score=-0.998\n",
      "force tagging i=9, score=-0.933\n",
      "force tagging i=10, score=-1.000\n",
      "force tagging i=14, score=-1.000\n",
      "force tagging i=16, score=-1.000\n",
      "sequential tagging i=5, score=0.503\n",
      "sequential tagging i=15, score=0.502\n"
     ]
    },
    {
     "data": {
      "text/plain": [
       "('이건 진짜 좋은 영화 라라랜드 진짜 좋은 영화',\n",
       " [0, 1, 0, 1, 0, 1, 0, 1, 0, 0, 0, 1, 0, 1, 0, 1, 0, 1])"
      ]
     },
     "execution_count": 10,
     "metadata": {},
     "output_type": "execute_result"
    }
   ],
   "source": [
    "model.correct(sent, debug=True, rules=rule_dict)"
   ]
  },
  {
   "cell_type": "code",
   "execution_count": null,
   "metadata": {
    "collapsed": true
   },
   "outputs": [],
   "source": []
  }
 ],
 "metadata": {
  "kernelspec": {
   "display_name": "Python 3",
   "language": "python",
   "name": "python3"
  },
  "language_info": {
   "codemirror_mode": {
    "name": "ipython",
    "version": 3
   },
   "file_extension": ".py",
   "mimetype": "text/x-python",
   "name": "python",
   "nbconvert_exporter": "python",
   "pygments_lexer": "ipython3",
   "version": "3.6.2"
  }
 },
 "nbformat": 4,
 "nbformat_minor": 2
}
